{
 "cells": [
  {
   "cell_type": "code",
   "execution_count": 4,
   "id": "6e940a42-d71f-46d2-8ab0-502f8174a6e5",
   "metadata": {},
   "outputs": [
    {
     "name": "stdout",
     "output_type": "stream",
     "text": [
      "Found 6000 files belonging to 3 classes.\n",
      "Found 600 files belonging to 3 classes.\n",
      "Found 300 files belonging to 3 classes.\n",
      "['Beetle', 'Butterfly', 'Spider']\n"
     ]
    }
   ],
   "source": [
    "import matplotlib.pyplot as plt\n",
    "import numpy as np\n",
    "import os\n",
    "import PIL\n",
    "import tensorflow as tf\n",
    "\n",
    "from tensorflow import keras\n",
    "from tensorflow.keras import layers\n",
    "from tensorflow.keras.models import Sequential\n",
    "#Data paths\n",
    "data_dir_train = 'data/Train'\n",
    "data_dir_val = 'data/Validation'\n",
    "data_dir_test = 'data/Test'\n",
    "#Module parametres\n",
    "batch_size = 32\n",
    "img_height = 180\n",
    "img_width = 180\n",
    "train_ds = tf.keras.utils.image_dataset_from_directory(\n",
    "  data_dir_train,\n",
    "  image_size=(img_height, img_width),\n",
    "  batch_size=batch_size)\n",
    "val_ds = tf.keras.utils.image_dataset_from_directory(\n",
    "  data_dir_val,\n",
    "  image_size=(img_height, img_width),\n",
    "  batch_size=batch_size)\n",
    "test_ds = tf.keras.utils.image_dataset_from_directory(\n",
    "  data_dir_test,\n",
    "  image_size=(img_height, img_width),\n",
    "  batch_size=batch_size)\n",
    "class_names = train_ds.class_names\n",
    "print(class_names)"
   ]
  },
  {
   "cell_type": "code",
   "execution_count": 5,
   "id": "8e0cbece-b122-4670-aae7-50bbbdd83639",
   "metadata": {},
   "outputs": [
    {
     "name": "stdout",
     "output_type": "stream",
     "text": [
      "0.0 1.0\n"
     ]
    }
   ],
   "source": [
    "AUTOTUNE = tf.data.AUTOTUNE\n",
    "train_ds = train_ds.cache().shuffle(1000).prefetch(buffer_size=AUTOTUNE)\n",
    "val_ds = val_ds.cache().prefetch(buffer_size=AUTOTUNE)\n",
    "normalization_layer = layers.Rescaling(1./255)\n",
    "normalized_ds = train_ds.map(lambda x, y: (normalization_layer(x), y))\n",
    "image_batch, labels_batch = next(iter(normalized_ds))\n",
    "first_image = image_batch[0]\n",
    "print(np.min(first_image), np.max(first_image))"
   ]
  },
  {
   "cell_type": "code",
   "execution_count": 7,
   "id": "f622c207-9f43-4886-9f04-8a08dde97221",
   "metadata": {},
   "outputs": [],
   "source": [
    "data_augmentation = keras.Sequential(\n",
    "  [\n",
    "    layers.RandomFlip(\"horizontal\",\n",
    "                      input_shape=(img_height,\n",
    "                                  img_width,\n",
    "                                  3)),\n",
    "    layers.RandomRotation(0.1),\n",
    "    layers.RandomZoom(0.1),\n",
    "  ]\n",
    ")"
   ]
  },
  {
   "cell_type": "code",
   "execution_count": 13,
   "id": "52499ed7-5506-43ab-b8a7-df7b4fa5a180",
   "metadata": {},
   "outputs": [],
   "source": [
    "num_classes = len(class_names)\n",
    "\n",
    "model = Sequential([\n",
    "  data_augmentation,\n",
    "  layers.Rescaling(1./255),\n",
    "  layers.Conv2D(16, 3, padding='same', activation='relu'),\n",
    "  layers.MaxPooling2D(),\n",
    "  layers.Conv2D(32, 3, padding='same', activation='relu'),\n",
    "  layers.MaxPooling2D(),\n",
    "  layers.Conv2D(64, 3, padding='same', activation='relu'),\n",
    "  layers.MaxPooling2D(),\n",
    "  layers.Dropout(0.3),\n",
    "  layers.Flatten(),\n",
    "  layers.Dense(128, activation='relu'),\n",
    "  layers.Dense(num_classes)\n",
    "])\n"
   ]
  },
  {
   "cell_type": "code",
   "execution_count": 14,
   "id": "b9d6d316-e4b0-4f34-bd24-eb86a76e048d",
   "metadata": {},
   "outputs": [
    {
     "name": "stdout",
     "output_type": "stream",
     "text": [
      "Model: \"sequential_2\"\n",
      "_________________________________________________________________\n",
      " Layer (type)                Output Shape              Param #   \n",
      "=================================================================\n",
      " sequential (Sequential)     (None, 180, 180, 3)       0         \n",
      "                                                                 \n",
      " rescaling_3 (Rescaling)     (None, 180, 180, 3)       0         \n",
      "                                                                 \n",
      " conv2d_3 (Conv2D)           (None, 180, 180, 16)      448       \n",
      "                                                                 \n",
      " max_pooling2d_3 (MaxPooling  (None, 90, 90, 16)       0         \n",
      " 2D)                                                             \n",
      "                                                                 \n",
      " conv2d_4 (Conv2D)           (None, 90, 90, 32)        4640      \n",
      "                                                                 \n",
      " max_pooling2d_4 (MaxPooling  (None, 45, 45, 32)       0         \n",
      " 2D)                                                             \n",
      "                                                                 \n",
      " conv2d_5 (Conv2D)           (None, 45, 45, 64)        18496     \n",
      "                                                                 \n",
      " max_pooling2d_5 (MaxPooling  (None, 22, 22, 64)       0         \n",
      " 2D)                                                             \n",
      "                                                                 \n",
      " dropout_1 (Dropout)         (None, 22, 22, 64)        0         \n",
      "                                                                 \n",
      " flatten_1 (Flatten)         (None, 30976)             0         \n",
      "                                                                 \n",
      " dense_2 (Dense)             (None, 128)               3965056   \n",
      "                                                                 \n",
      " dense_3 (Dense)             (None, 3)                 387       \n",
      "                                                                 \n",
      "=================================================================\n",
      "Total params: 3,989,027\n",
      "Trainable params: 3,989,027\n",
      "Non-trainable params: 0\n",
      "_________________________________________________________________\n"
     ]
    }
   ],
   "source": [
    "model.compile(optimizer='adam',\n",
    "              loss=tf.keras.losses.SparseCategoricalCrossentropy(from_logits=True),\n",
    "              metrics=['accuracy'])\n",
    "model.summary()"
   ]
  },
  {
   "cell_type": "code",
   "execution_count": 27,
   "id": "b49bc307-f720-448e-a866-7ec68e019b8e",
   "metadata": {},
   "outputs": [
    {
     "name": "stdout",
     "output_type": "stream",
     "text": [
      "Epoch 1/5\n",
      "188/188 [==============================] - 122s 651ms/step - loss: 0.1670 - accuracy: 0.9372 - val_loss: 0.7678 - val_accuracy: 0.8017\n",
      "Epoch 2/5\n",
      "188/188 [==============================] - 118s 628ms/step - loss: 0.1513 - accuracy: 0.9438 - val_loss: 0.8273 - val_accuracy: 0.7800\n",
      "Epoch 3/5\n",
      "188/188 [==============================] - 121s 646ms/step - loss: 0.1746 - accuracy: 0.9345 - val_loss: 0.8762 - val_accuracy: 0.7717\n",
      "Epoch 4/5\n",
      "188/188 [==============================] - 122s 647ms/step - loss: 0.1432 - accuracy: 0.9503 - val_loss: 0.8930 - val_accuracy: 0.8033\n",
      "Epoch 5/5\n",
      "188/188 [==============================] - 121s 645ms/step - loss: 0.1533 - accuracy: 0.9458 - val_loss: 0.7232 - val_accuracy: 0.7983\n"
     ]
    }
   ],
   "source": [
    "epochs = 45\n",
    "history = model.fit(\n",
    "  train_ds,\n",
    "  validation_data=val_ds,\n",
    "  epochs=epochs\n",
    ")"
   ]
  },
  {
   "cell_type": "code",
   "execution_count": 29,
   "id": "3daa143c-61c8-44df-b916-3d260b3de303",
   "metadata": {},
   "outputs": [
    {
     "name": "stdout",
     "output_type": "stream",
     "text": [
      "10/10 [==============================] - 1s 116ms/step - loss: 1.6124 - accuracy: 0.6867\n",
      "Test accuracy: 0.6866666674613953\n"
     ]
    }
   ],
   "source": [
    "#Testing model on test data\n",
    "loss, accuracy = model.evaluate(test_ds)\n",
    "print('Test accuracy:', accuracy)\n"
   ]
  },
  {
   "cell_type": "code",
   "execution_count": 28,
   "id": "a7556388-269d-4fdb-8775-b24a511dcafa",
   "metadata": {},
   "outputs": [],
   "source": [
    "model.save('modelb.h5')"
   ]
  },
  {
   "cell_type": "code",
   "execution_count": null,
   "id": "e020e9a9-ce4f-44ed-a0b1-cb0a1ca44a56",
   "metadata": {},
   "outputs": [],
   "source": []
  }
 ],
 "metadata": {
  "kernelspec": {
   "display_name": "Python 3 (ipykernel)",
   "language": "python",
   "name": "python3"
  },
  "language_info": {
   "codemirror_mode": {
    "name": "ipython",
    "version": 3
   },
   "file_extension": ".py",
   "mimetype": "text/x-python",
   "name": "python",
   "nbconvert_exporter": "python",
   "pygments_lexer": "ipython3",
   "version": "3.10.9"
  }
 },
 "nbformat": 4,
 "nbformat_minor": 5
}
